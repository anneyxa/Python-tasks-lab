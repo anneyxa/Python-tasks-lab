{
 "cells": [
  {
   "cell_type": "code",
   "execution_count": 1,
   "metadata": {},
   "outputs": [],
   "source": [
    "#!pip install pandas\n",
    "#!pip install matplotlib"
   ]
  },
  {
   "cell_type": "code",
   "execution_count": 2,
   "metadata": {},
   "outputs": [],
   "source": [
    "import pandas as pd\n",
    "import matplotlib.pyplot as plt"
   ]
  },
  {
   "cell_type": "code",
   "execution_count": 3,
   "metadata": {},
   "outputs": [],
   "source": [
    "# Zadanie 1 - Wczytaj pliki Plant_1_Generation_Data.csv i Plant_2_Generation_Data.csv i utwórz z nich jeden DataFrame\n",
    "\n",
    "# Zakładając, że pliki są w tym samym folderze co notebook\n",
    "plant_1 = pd.read_csv('Plant_1_Generation_Data.csv')\n",
    "plant_2 = pd.read_csv('Plant_2_Generation_Data.csv')\n",
    "\n",
    "df = pd.concat([plant_1, plant_2])"
   ]
  },
  {
   "cell_type": "code",
   "execution_count": 4,
   "metadata": {},
   "outputs": [
    {
     "data": {
      "text/html": [
       "<div>\n",
       "<style scoped>\n",
       "    .dataframe tbody tr th:only-of-type {\n",
       "        vertical-align: middle;\n",
       "    }\n",
       "\n",
       "    .dataframe tbody tr th {\n",
       "        vertical-align: top;\n",
       "    }\n",
       "\n",
       "    .dataframe thead th {\n",
       "        text-align: right;\n",
       "    }\n",
       "</style>\n",
       "<table border=\"1\" class=\"dataframe\">\n",
       "  <thead>\n",
       "    <tr style=\"text-align: right;\">\n",
       "      <th></th>\n",
       "      <th>DATE_TIME</th>\n",
       "      <th>PLANT_ID</th>\n",
       "      <th>SOURCE_KEY</th>\n",
       "      <th>DC_POWER</th>\n",
       "      <th>AC_POWER</th>\n",
       "      <th>DAILY_YIELD</th>\n",
       "      <th>TOTAL_YIELD</th>\n",
       "    </tr>\n",
       "  </thead>\n",
       "  <tbody>\n",
       "    <tr>\n",
       "      <th>0</th>\n",
       "      <td>15-05-2020 00:00</td>\n",
       "      <td>4135001.0</td>\n",
       "      <td>1BY6WEcLGh8j5v7</td>\n",
       "      <td>0.0</td>\n",
       "      <td>0.0</td>\n",
       "      <td>0.0</td>\n",
       "      <td>6259559.0</td>\n",
       "    </tr>\n",
       "    <tr>\n",
       "      <th>1</th>\n",
       "      <td>15-05-2020 00:00</td>\n",
       "      <td>4135001.0</td>\n",
       "      <td>1IF53ai7Xc0U56Y</td>\n",
       "      <td>0.0</td>\n",
       "      <td>0.0</td>\n",
       "      <td>0.0</td>\n",
       "      <td>6183645.0</td>\n",
       "    </tr>\n",
       "    <tr>\n",
       "      <th>2</th>\n",
       "      <td>15-05-2020 00:00</td>\n",
       "      <td>4135001.0</td>\n",
       "      <td>3PZuoBAID5Wc2HD</td>\n",
       "      <td>0.0</td>\n",
       "      <td>0.0</td>\n",
       "      <td>0.0</td>\n",
       "      <td>6987759.0</td>\n",
       "    </tr>\n",
       "    <tr>\n",
       "      <th>3</th>\n",
       "      <td>15-05-2020 00:00</td>\n",
       "      <td>4135001.0</td>\n",
       "      <td>7JYdWkrLSPkdwr4</td>\n",
       "      <td>0.0</td>\n",
       "      <td>0.0</td>\n",
       "      <td>0.0</td>\n",
       "      <td>7602960.0</td>\n",
       "    </tr>\n",
       "    <tr>\n",
       "      <th>4</th>\n",
       "      <td>15-05-2020 00:00</td>\n",
       "      <td>4135001.0</td>\n",
       "      <td>McdE0feGgRqW7Ca</td>\n",
       "      <td>0.0</td>\n",
       "      <td>0.0</td>\n",
       "      <td>0.0</td>\n",
       "      <td>7158964.0</td>\n",
       "    </tr>\n",
       "  </tbody>\n",
       "</table>\n",
       "</div>"
      ],
      "text/plain": [
       "          DATE_TIME   PLANT_ID       SOURCE_KEY  DC_POWER  AC_POWER  \\\n",
       "0  15-05-2020 00:00  4135001.0  1BY6WEcLGh8j5v7       0.0       0.0   \n",
       "1  15-05-2020 00:00  4135001.0  1IF53ai7Xc0U56Y       0.0       0.0   \n",
       "2  15-05-2020 00:00  4135001.0  3PZuoBAID5Wc2HD       0.0       0.0   \n",
       "3  15-05-2020 00:00  4135001.0  7JYdWkrLSPkdwr4       0.0       0.0   \n",
       "4  15-05-2020 00:00  4135001.0  McdE0feGgRqW7Ca       0.0       0.0   \n",
       "\n",
       "   DAILY_YIELD  TOTAL_YIELD  \n",
       "0          0.0    6259559.0  \n",
       "1          0.0    6183645.0  \n",
       "2          0.0    6987759.0  \n",
       "3          0.0    7602960.0  \n",
       "4          0.0    7158964.0  "
      ]
     },
     "execution_count": 4,
     "metadata": {},
     "output_type": "execute_result"
    }
   ],
   "source": [
    "df.head()"
   ]
  },
  {
   "cell_type": "code",
   "execution_count": 5,
   "metadata": {},
   "outputs": [
    {
     "data": {
      "text/html": [
       "<div>\n",
       "<style scoped>\n",
       "    .dataframe tbody tr th:only-of-type {\n",
       "        vertical-align: middle;\n",
       "    }\n",
       "\n",
       "    .dataframe tbody tr th {\n",
       "        vertical-align: top;\n",
       "    }\n",
       "\n",
       "    .dataframe thead th {\n",
       "        text-align: right;\n",
       "    }\n",
       "</style>\n",
       "<table border=\"1\" class=\"dataframe\">\n",
       "  <thead>\n",
       "    <tr style=\"text-align: right;\">\n",
       "      <th></th>\n",
       "      <th>DATE_TIME</th>\n",
       "      <th>PLANT_ID</th>\n",
       "      <th>SOURCE_KEY</th>\n",
       "      <th>DC_POWER</th>\n",
       "      <th>AC_POWER</th>\n",
       "      <th>DAILY_YIELD</th>\n",
       "      <th>TOTAL_YIELD</th>\n",
       "    </tr>\n",
       "  </thead>\n",
       "  <tbody>\n",
       "    <tr>\n",
       "      <th>67693</th>\n",
       "      <td>2020-06-17 23:45:00</td>\n",
       "      <td>4136001.0</td>\n",
       "      <td>q49J1IKaHRwDQnt</td>\n",
       "      <td>0.0</td>\n",
       "      <td>0.0</td>\n",
       "      <td>4157.0</td>\n",
       "      <td>520758.0</td>\n",
       "    </tr>\n",
       "    <tr>\n",
       "      <th>67694</th>\n",
       "      <td>2020-06-17 23:45:00</td>\n",
       "      <td>4136001.0</td>\n",
       "      <td>rrq4fwE8jgrTyWY</td>\n",
       "      <td>0.0</td>\n",
       "      <td>0.0</td>\n",
       "      <td>3931.0</td>\n",
       "      <td>121131356.0</td>\n",
       "    </tr>\n",
       "    <tr>\n",
       "      <th>67695</th>\n",
       "      <td>2020-06-17 23:45:00</td>\n",
       "      <td>4136001.0</td>\n",
       "      <td>vOuJvMaM2sgwLmb</td>\n",
       "      <td>0.0</td>\n",
       "      <td>0.0</td>\n",
       "      <td>4322.0</td>\n",
       "      <td>2427691.0</td>\n",
       "    </tr>\n",
       "    <tr>\n",
       "      <th>67696</th>\n",
       "      <td>2020-06-17 23:45:00</td>\n",
       "      <td>4136001.0</td>\n",
       "      <td>xMbIugepa2P7lBB</td>\n",
       "      <td>0.0</td>\n",
       "      <td>0.0</td>\n",
       "      <td>4218.0</td>\n",
       "      <td>106896394.0</td>\n",
       "    </tr>\n",
       "    <tr>\n",
       "      <th>67697</th>\n",
       "      <td>2020-06-17 23:45:00</td>\n",
       "      <td>4136001.0</td>\n",
       "      <td>xoJJ8DcxJEcupym</td>\n",
       "      <td>0.0</td>\n",
       "      <td>0.0</td>\n",
       "      <td>4316.0</td>\n",
       "      <td>209335741.0</td>\n",
       "    </tr>\n",
       "  </tbody>\n",
       "</table>\n",
       "</div>"
      ],
      "text/plain": [
       "                 DATE_TIME   PLANT_ID       SOURCE_KEY  DC_POWER  AC_POWER  \\\n",
       "67693  2020-06-17 23:45:00  4136001.0  q49J1IKaHRwDQnt       0.0       0.0   \n",
       "67694  2020-06-17 23:45:00  4136001.0  rrq4fwE8jgrTyWY       0.0       0.0   \n",
       "67695  2020-06-17 23:45:00  4136001.0  vOuJvMaM2sgwLmb       0.0       0.0   \n",
       "67696  2020-06-17 23:45:00  4136001.0  xMbIugepa2P7lBB       0.0       0.0   \n",
       "67697  2020-06-17 23:45:00  4136001.0  xoJJ8DcxJEcupym       0.0       0.0   \n",
       "\n",
       "       DAILY_YIELD  TOTAL_YIELD  \n",
       "67693       4157.0     520758.0  \n",
       "67694       3931.0  121131356.0  \n",
       "67695       4322.0    2427691.0  \n",
       "67696       4218.0  106896394.0  \n",
       "67697       4316.0  209335741.0  "
      ]
     },
     "execution_count": 5,
     "metadata": {},
     "output_type": "execute_result"
    }
   ],
   "source": [
    "df.tail()"
   ]
  },
  {
   "cell_type": "code",
   "execution_count": 6,
   "metadata": {},
   "outputs": [
    {
     "data": {
      "text/html": [
       "<div>\n",
       "<style scoped>\n",
       "    .dataframe tbody tr th:only-of-type {\n",
       "        vertical-align: middle;\n",
       "    }\n",
       "\n",
       "    .dataframe tbody tr th {\n",
       "        vertical-align: top;\n",
       "    }\n",
       "\n",
       "    .dataframe thead th {\n",
       "        text-align: right;\n",
       "    }\n",
       "</style>\n",
       "<table border=\"1\" class=\"dataframe\">\n",
       "  <thead>\n",
       "    <tr style=\"text-align: right;\">\n",
       "      <th></th>\n",
       "      <th>DATE_TIME</th>\n",
       "      <th>PLANT_ID</th>\n",
       "      <th>SOURCE_KEY</th>\n",
       "      <th>DC_POWER</th>\n",
       "      <th>AC_POWER</th>\n",
       "      <th>DAILY_YIELD</th>\n",
       "      <th>TOTAL_YIELD</th>\n",
       "    </tr>\n",
       "  </thead>\n",
       "  <tbody>\n",
       "    <tr>\n",
       "      <th>9</th>\n",
       "      <td>15-05-2020 00:00</td>\n",
       "      <td>4135001.0</td>\n",
       "      <td>adLQvlD726eNBSB</td>\n",
       "      <td>0.0</td>\n",
       "      <td>0.0</td>\n",
       "      <td>0.0</td>\n",
       "      <td>NaN</td>\n",
       "    </tr>\n",
       "    <tr>\n",
       "      <th>108</th>\n",
       "      <td>15-05-2020 01:15</td>\n",
       "      <td>4135001.0</td>\n",
       "      <td>3PZuoBAID5Wc2HD</td>\n",
       "      <td>NaN</td>\n",
       "      <td>0.0</td>\n",
       "      <td>0.0</td>\n",
       "      <td>6987759.0</td>\n",
       "    </tr>\n",
       "    <tr>\n",
       "      <th>68742</th>\n",
       "      <td>17-06-2020 23:30</td>\n",
       "      <td>4135001.0</td>\n",
       "      <td>ZnxXDlPa8U1GXgE</td>\n",
       "      <td>0.0</td>\n",
       "      <td>0.0</td>\n",
       "      <td>NaN</td>\n",
       "      <td>6770737.0</td>\n",
       "    </tr>\n",
       "    <tr>\n",
       "      <th>68749</th>\n",
       "      <td>17-06-2020 23:30</td>\n",
       "      <td>NaN</td>\n",
       "      <td>rGa61gmuvPhdLxV</td>\n",
       "      <td>0.0</td>\n",
       "      <td>0.0</td>\n",
       "      <td>5950.0</td>\n",
       "      <td>7356897.0</td>\n",
       "    </tr>\n",
       "    <tr>\n",
       "      <th>25</th>\n",
       "      <td>2020-05-15 00:15:00</td>\n",
       "      <td>NaN</td>\n",
       "      <td>Et9kgGMDl729KT4</td>\n",
       "      <td>0.0</td>\n",
       "      <td>0.0</td>\n",
       "      <td>0.0</td>\n",
       "      <td>1704250.0</td>\n",
       "    </tr>\n",
       "    <tr>\n",
       "      <th>27</th>\n",
       "      <td>2020-05-15 00:15:00</td>\n",
       "      <td>4136001.0</td>\n",
       "      <td>LYwnQax7tkwH5Cb</td>\n",
       "      <td>0.0</td>\n",
       "      <td>0.0</td>\n",
       "      <td>0.0</td>\n",
       "      <td>NaN</td>\n",
       "    </tr>\n",
       "    <tr>\n",
       "      <th>67541</th>\n",
       "      <td>2020-06-17 22:00:00</td>\n",
       "      <td>4136001.0</td>\n",
       "      <td>vOuJvMaM2sgwLmb</td>\n",
       "      <td>0.0</td>\n",
       "      <td>NaN</td>\n",
       "      <td>4322.0</td>\n",
       "      <td>2427691.0</td>\n",
       "    </tr>\n",
       "  </tbody>\n",
       "</table>\n",
       "</div>"
      ],
      "text/plain": [
       "                 DATE_TIME   PLANT_ID       SOURCE_KEY  DC_POWER  AC_POWER  \\\n",
       "9         15-05-2020 00:00  4135001.0  adLQvlD726eNBSB       0.0       0.0   \n",
       "108       15-05-2020 01:15  4135001.0  3PZuoBAID5Wc2HD       NaN       0.0   \n",
       "68742     17-06-2020 23:30  4135001.0  ZnxXDlPa8U1GXgE       0.0       0.0   \n",
       "68749     17-06-2020 23:30        NaN  rGa61gmuvPhdLxV       0.0       0.0   \n",
       "25     2020-05-15 00:15:00        NaN  Et9kgGMDl729KT4       0.0       0.0   \n",
       "27     2020-05-15 00:15:00  4136001.0  LYwnQax7tkwH5Cb       0.0       0.0   \n",
       "67541  2020-06-17 22:00:00  4136001.0  vOuJvMaM2sgwLmb       0.0       NaN   \n",
       "\n",
       "       DAILY_YIELD  TOTAL_YIELD  \n",
       "9              0.0          NaN  \n",
       "108            0.0    6987759.0  \n",
       "68742          NaN    6770737.0  \n",
       "68749       5950.0    7356897.0  \n",
       "25             0.0    1704250.0  \n",
       "27             0.0          NaN  \n",
       "67541       4322.0    2427691.0  "
      ]
     },
     "execution_count": 6,
     "metadata": {},
     "output_type": "execute_result"
    }
   ],
   "source": [
    "df[df.isnull().any(axis=1)]"
   ]
  },
  {
   "cell_type": "code",
   "execution_count": 7,
   "metadata": {},
   "outputs": [],
   "source": [
    "# Zadanie 2 - Odfiltruj wiersze z brakującymi danymi\n",
    "\n",
    "df = df.dropna()"
   ]
  },
  {
   "cell_type": "code",
   "execution_count": 8,
   "metadata": {},
   "outputs": [
    {
     "data": {
      "text/html": [
       "<div>\n",
       "<style scoped>\n",
       "    .dataframe tbody tr th:only-of-type {\n",
       "        vertical-align: middle;\n",
       "    }\n",
       "\n",
       "    .dataframe tbody tr th {\n",
       "        vertical-align: top;\n",
       "    }\n",
       "\n",
       "    .dataframe thead th {\n",
       "        text-align: right;\n",
       "    }\n",
       "</style>\n",
       "<table border=\"1\" class=\"dataframe\">\n",
       "  <thead>\n",
       "    <tr style=\"text-align: right;\">\n",
       "      <th></th>\n",
       "      <th>DATE_TIME</th>\n",
       "      <th>PLANT_ID</th>\n",
       "      <th>SOURCE_KEY</th>\n",
       "      <th>DC_POWER</th>\n",
       "      <th>AC_POWER</th>\n",
       "      <th>DAILY_YIELD</th>\n",
       "      <th>TOTAL_YIELD</th>\n",
       "    </tr>\n",
       "  </thead>\n",
       "  <tbody>\n",
       "  </tbody>\n",
       "</table>\n",
       "</div>"
      ],
      "text/plain": [
       "Empty DataFrame\n",
       "Columns: [DATE_TIME, PLANT_ID, SOURCE_KEY, DC_POWER, AC_POWER, DAILY_YIELD, TOTAL_YIELD]\n",
       "Index: []"
      ]
     },
     "execution_count": 8,
     "metadata": {},
     "output_type": "execute_result"
    }
   ],
   "source": [
    "df[df.isnull().any(axis=1)]"
   ]
  },
  {
   "cell_type": "code",
   "execution_count": 9,
   "metadata": {
    "scrolled": true
   },
   "outputs": [
    {
     "data": {
      "text/plain": [
       "DATE_TIME       object\n",
       "PLANT_ID       float64\n",
       "SOURCE_KEY      object\n",
       "DC_POWER       float64\n",
       "AC_POWER       float64\n",
       "DAILY_YIELD    float64\n",
       "TOTAL_YIELD    float64\n",
       "dtype: object"
      ]
     },
     "execution_count": 9,
     "metadata": {},
     "output_type": "execute_result"
    }
   ],
   "source": [
    "df.dtypes"
   ]
  },
  {
   "cell_type": "code",
   "execution_count": 10,
   "metadata": {},
   "outputs": [
    {
     "data": {
      "text/plain": [
       "DATE_TIME      datetime64[ns]\n",
       "PLANT_ID              float64\n",
       "SOURCE_KEY             object\n",
       "DC_POWER              float64\n",
       "AC_POWER              float64\n",
       "DAILY_YIELD           float64\n",
       "TOTAL_YIELD           float64\n",
       "dtype: object"
      ]
     },
     "execution_count": 10,
     "metadata": {},
     "output_type": "execute_result"
    }
   ],
   "source": [
    "df['DATE_TIME'] = pd.to_datetime(df['DATE_TIME'])\n",
    "df.dtypes"
   ]
  },
  {
   "cell_type": "code",
   "execution_count": 11,
   "metadata": {},
   "outputs": [
    {
     "data": {
      "text/html": [
       "<div>\n",
       "<style scoped>\n",
       "    .dataframe tbody tr th:only-of-type {\n",
       "        vertical-align: middle;\n",
       "    }\n",
       "\n",
       "    .dataframe tbody tr th {\n",
       "        vertical-align: top;\n",
       "    }\n",
       "\n",
       "    .dataframe thead th {\n",
       "        text-align: right;\n",
       "    }\n",
       "</style>\n",
       "<table border=\"1\" class=\"dataframe\">\n",
       "  <thead>\n",
       "    <tr style=\"text-align: right;\">\n",
       "      <th></th>\n",
       "      <th></th>\n",
       "      <th></th>\n",
       "      <th>DC_POWER</th>\n",
       "      <th>AC_POWER</th>\n",
       "      <th>DAILY_YIELD</th>\n",
       "      <th>TOTAL_YIELD</th>\n",
       "    </tr>\n",
       "    <tr>\n",
       "      <th>PLANT_ID</th>\n",
       "      <th>SOURCE_KEY</th>\n",
       "      <th>DATE_TIME</th>\n",
       "      <th></th>\n",
       "      <th></th>\n",
       "      <th></th>\n",
       "      <th></th>\n",
       "    </tr>\n",
       "  </thead>\n",
       "  <tbody>\n",
       "    <tr>\n",
       "      <th rowspan=\"5\" valign=\"top\">4135001.0</th>\n",
       "      <th>1BY6WEcLGh8j5v7</th>\n",
       "      <th>2020-05-15</th>\n",
       "      <td>0.0</td>\n",
       "      <td>0.0</td>\n",
       "      <td>0.0</td>\n",
       "      <td>6259559.0</td>\n",
       "    </tr>\n",
       "    <tr>\n",
       "      <th>1IF53ai7Xc0U56Y</th>\n",
       "      <th>2020-05-15</th>\n",
       "      <td>0.0</td>\n",
       "      <td>0.0</td>\n",
       "      <td>0.0</td>\n",
       "      <td>6183645.0</td>\n",
       "    </tr>\n",
       "    <tr>\n",
       "      <th>3PZuoBAID5Wc2HD</th>\n",
       "      <th>2020-05-15</th>\n",
       "      <td>0.0</td>\n",
       "      <td>0.0</td>\n",
       "      <td>0.0</td>\n",
       "      <td>6987759.0</td>\n",
       "    </tr>\n",
       "    <tr>\n",
       "      <th>7JYdWkrLSPkdwr4</th>\n",
       "      <th>2020-05-15</th>\n",
       "      <td>0.0</td>\n",
       "      <td>0.0</td>\n",
       "      <td>0.0</td>\n",
       "      <td>7602960.0</td>\n",
       "    </tr>\n",
       "    <tr>\n",
       "      <th>McdE0feGgRqW7Ca</th>\n",
       "      <th>2020-05-15</th>\n",
       "      <td>0.0</td>\n",
       "      <td>0.0</td>\n",
       "      <td>0.0</td>\n",
       "      <td>7158964.0</td>\n",
       "    </tr>\n",
       "  </tbody>\n",
       "</table>\n",
       "</div>"
      ],
      "text/plain": [
       "                                      DC_POWER  AC_POWER  DAILY_YIELD  \\\n",
       "PLANT_ID  SOURCE_KEY      DATE_TIME                                     \n",
       "4135001.0 1BY6WEcLGh8j5v7 2020-05-15       0.0       0.0          0.0   \n",
       "          1IF53ai7Xc0U56Y 2020-05-15       0.0       0.0          0.0   \n",
       "          3PZuoBAID5Wc2HD 2020-05-15       0.0       0.0          0.0   \n",
       "          7JYdWkrLSPkdwr4 2020-05-15       0.0       0.0          0.0   \n",
       "          McdE0feGgRqW7Ca 2020-05-15       0.0       0.0          0.0   \n",
       "\n",
       "                                      TOTAL_YIELD  \n",
       "PLANT_ID  SOURCE_KEY      DATE_TIME                \n",
       "4135001.0 1BY6WEcLGh8j5v7 2020-05-15    6259559.0  \n",
       "          1IF53ai7Xc0U56Y 2020-05-15    6183645.0  \n",
       "          3PZuoBAID5Wc2HD 2020-05-15    6987759.0  \n",
       "          7JYdWkrLSPkdwr4 2020-05-15    7602960.0  \n",
       "          McdE0feGgRqW7Ca 2020-05-15    7158964.0  "
      ]
     },
     "execution_count": 11,
     "metadata": {},
     "output_type": "execute_result"
    }
   ],
   "source": [
    "df = df.set_index(['PLANT_ID', 'SOURCE_KEY', 'DATE_TIME'])\n",
    "df.head()"
   ]
  },
  {
   "cell_type": "code",
   "execution_count": 12,
   "metadata": {},
   "outputs": [
    {
     "name": "stderr",
     "output_type": "stream",
     "text": [
      "/snap/jupyter/6/lib/python3.7/site-packages/ipykernel_launcher.py:1: PerformanceWarning: indexing past lexsort depth may impact performance.\n",
      "  \"\"\"Entry point for launching an IPython kernel.\n"
     ]
    },
    {
     "data": {
      "text/plain": [
       "DATE_TIME\n",
       "2020-05-15 00:00:00    0.0\n",
       "2020-05-15 00:15:00    0.0\n",
       "2020-05-15 00:30:00    0.0\n",
       "2020-05-15 00:45:00    0.0\n",
       "2020-05-15 01:00:00    0.0\n",
       "                      ... \n",
       "2020-05-21 23:00:00    0.0\n",
       "2020-05-21 23:15:00    0.0\n",
       "2020-05-21 23:30:00    0.0\n",
       "2020-05-21 23:45:00    0.0\n",
       "2020-05-22 00:00:00    0.0\n",
       "Name: AC_POWER, Length: 576, dtype: float64"
      ]
     },
     "execution_count": 12,
     "metadata": {},
     "output_type": "execute_result"
    }
   ],
   "source": [
    "selected_SK = df.loc[4135001.0, '3PZuoBAID5Wc2HD'] # do zadania 3 wybrano generator 3PZuoBAID5Wc2HD\n",
    "selected_SK['AC_POWER']['2020-05-15 00:00:00':'2020-05-22 00:00:00']"
   ]
  },
  {
   "cell_type": "code",
   "execution_count": 13,
   "metadata": {},
   "outputs": [
    {
     "data": {
      "text/plain": [
       "<matplotlib.legend.Legend at 0x7f7bbcf50fd0>"
      ]
     },
     "execution_count": 13,
     "metadata": {},
     "output_type": "execute_result"
    },
    {
     "data": {
      "image/png": "[encoded data removed]",
      "text/plain": [
       "<Figure size 1440x720 with 1 Axes>"
      ]
     },
     "metadata": {
      "needs_background": "light"
     },
     "output_type": "display_data"
    }
   ],
   "source": [
    "# Zadanie 3 - Wykonaj wykres AC_POWER dla wybranego generatora w wybranym tygodniu\n",
    "\n",
    "plt.figure(figsize=(20,10))\n",
    "plt.plot(selected_SK['AC_POWER']['2020-05-15 00:00:00':'2020-05-22 00:00:00'], '.', label='AC POWER for 3PZuoBAID5Wc2HD') # a linia nie byłaby czytelniejsza?\n",
    "plt.legend()\n",
    "# Zadanie 4 - Na tym samym wykresie pokaż średnie AC_POWER dla wszystkich generatorów\n",
    "\n",
    "plt.plot(df.groupby(level=2)['AC_POWER'].mean()['2020-05-15 00:00:00':'2020-05-22 00:00:00'], '.', label='AC POWER for all grouped generators means')\n",
    "plt.legend()\n",
    "\n",
    "#według dokumentacji, powinno również zadziałać level='SOURCE_KEY' (albo po prostu 'SOURCE_KEY'?),\n",
    "#natomiast coś wtedy jest nie tak... (nie wyświetlało tej części wykresu)"
   ]
  },
  {
   "cell_type": "code",
   "execution_count": 14,
   "metadata": {},
   "outputs": [
    {
     "data": {
      "text/html": [
       "<div>\n",
       "<style scoped>\n",
       "    .dataframe tbody tr th:only-of-type {\n",
       "        vertical-align: middle;\n",
       "    }\n",
       "\n",
       "    .dataframe tbody tr th {\n",
       "        vertical-align: top;\n",
       "    }\n",
       "\n",
       "    .dataframe thead th {\n",
       "        text-align: right;\n",
       "    }\n",
       "</style>\n",
       "<table border=\"1\" class=\"dataframe\">\n",
       "  <thead>\n",
       "    <tr style=\"text-align: right;\">\n",
       "      <th></th>\n",
       "      <th></th>\n",
       "      <th></th>\n",
       "      <th>DC_POWER</th>\n",
       "      <th>AC_POWER</th>\n",
       "      <th>DAILY_YIELD</th>\n",
       "      <th>TOTAL_YIELD</th>\n",
       "    </tr>\n",
       "    <tr>\n",
       "      <th>PLANT_ID</th>\n",
       "      <th>SOURCE_KEY</th>\n",
       "      <th>DATE_TIME</th>\n",
       "      <th></th>\n",
       "      <th></th>\n",
       "      <th></th>\n",
       "      <th></th>\n",
       "    </tr>\n",
       "  </thead>\n",
       "  <tbody>\n",
       "    <tr>\n",
       "      <th rowspan=\"5\" valign=\"top\">4135001.0</th>\n",
       "      <th>1BY6WEcLGh8j5v7</th>\n",
       "      <th>2020-05-15</th>\n",
       "      <td>0.0</td>\n",
       "      <td>0.0</td>\n",
       "      <td>0.0</td>\n",
       "      <td>6259559.0</td>\n",
       "    </tr>\n",
       "    <tr>\n",
       "      <th>1IF53ai7Xc0U56Y</th>\n",
       "      <th>2020-05-15</th>\n",
       "      <td>0.0</td>\n",
       "      <td>0.0</td>\n",
       "      <td>0.0</td>\n",
       "      <td>6183645.0</td>\n",
       "    </tr>\n",
       "    <tr>\n",
       "      <th>3PZuoBAID5Wc2HD</th>\n",
       "      <th>2020-05-15</th>\n",
       "      <td>0.0</td>\n",
       "      <td>0.0</td>\n",
       "      <td>0.0</td>\n",
       "      <td>6987759.0</td>\n",
       "    </tr>\n",
       "    <tr>\n",
       "      <th>7JYdWkrLSPkdwr4</th>\n",
       "      <th>2020-05-15</th>\n",
       "      <td>0.0</td>\n",
       "      <td>0.0</td>\n",
       "      <td>0.0</td>\n",
       "      <td>7602960.0</td>\n",
       "    </tr>\n",
       "    <tr>\n",
       "      <th>McdE0feGgRqW7Ca</th>\n",
       "      <th>2020-05-15</th>\n",
       "      <td>0.0</td>\n",
       "      <td>0.0</td>\n",
       "      <td>0.0</td>\n",
       "      <td>7158964.0</td>\n",
       "    </tr>\n",
       "  </tbody>\n",
       "</table>\n",
       "</div>"
      ],
      "text/plain": [
       "                                      DC_POWER  AC_POWER  DAILY_YIELD  \\\n",
       "PLANT_ID  SOURCE_KEY      DATE_TIME                                     \n",
       "4135001.0 1BY6WEcLGh8j5v7 2020-05-15       0.0       0.0          0.0   \n",
       "          1IF53ai7Xc0U56Y 2020-05-15       0.0       0.0          0.0   \n",
       "          3PZuoBAID5Wc2HD 2020-05-15       0.0       0.0          0.0   \n",
       "          7JYdWkrLSPkdwr4 2020-05-15       0.0       0.0          0.0   \n",
       "          McdE0feGgRqW7Ca 2020-05-15       0.0       0.0          0.0   \n",
       "\n",
       "                                      TOTAL_YIELD  \n",
       "PLANT_ID  SOURCE_KEY      DATE_TIME                \n",
       "4135001.0 1BY6WEcLGh8j5v7 2020-05-15    6259559.0  \n",
       "          1IF53ai7Xc0U56Y 2020-05-15    6183645.0  \n",
       "          3PZuoBAID5Wc2HD 2020-05-15    6987759.0  \n",
       "          7JYdWkrLSPkdwr4 2020-05-15    7602960.0  \n",
       "          McdE0feGgRqW7Ca 2020-05-15    7158964.0  "
      ]
     },
     "execution_count": 14,
     "metadata": {},
     "output_type": "execute_result"
    }
   ],
   "source": [
    "# Zadanie 5 - Znajdź przypadki, kiedy AC_POWER któregoś z generatorów było na poziomie < 80% średniej\n",
    "\n",
    "mean = df['AC_POWER'].mean() # nie o taką średnią chodzi\n",
    "selected = df[(df['AC_POWER'] < (mean * 0.8))]\n",
    "selected.head() # Których generatorów najczęściej to dotyczy?"
   ]
  }
 ],
 "metadata": {
  "kernelspec": {
   "display_name": "Python 3",
   "language": "python",
   "name": "python3"
  },
  "language_info": {
   "codemirror_mode": {
    "name": "ipython",
    "version": 3
   },
   "file_extension": ".py",
   "mimetype": "text/x-python",
   "name": "python",
   "nbconvert_exporter": "python",
   "pygments_lexer": "ipython3",
   "version": "3.6.9"
  }
 },
 "nbformat": 4,
 "nbformat_minor": 2
}
